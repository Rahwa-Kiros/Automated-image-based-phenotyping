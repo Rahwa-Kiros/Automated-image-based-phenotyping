{
 "cells": [
  {
   "cell_type": "code",
   "execution_count": 6,
   "metadata": {},
   "outputs": [],
   "source": [
    "import numpy as np\n",
    "import pandas as pd\n",
    "import cv2\n",
    "import matplotlib.pyplot as plt"
   ]
  },
  {
   "cell_type": "code",
   "execution_count": 14,
   "metadata": {},
   "outputs": [
    {
     "name": "stderr",
     "output_type": "stream",
     "text": [
      "<>:1: SyntaxWarning: invalid escape sequence '\\B'\n",
      "<>:1: SyntaxWarning: invalid escape sequence '\\B'\n",
      "C:\\Users\\kirt\\AppData\\Local\\Temp\\ipykernel_9804\\896238426.py:1: SyntaxWarning: invalid escape sequence '\\B'\n",
      "  image = cv2.imread('../Seaweed biostimulant Rahwa\\BOTTOM\\1740385853.034617.jpg')\n",
      "C:\\Users\\kirt\\AppData\\Local\\Temp\\ipykernel_9804\\896238426.py:1: SyntaxWarning: invalid escape sequence '\\B'\n",
      "  image = cv2.imread('../Seaweed biostimulant Rahwa\\BOTTOM\\1740385853.034617.jpg')\n"
     ]
    },
    {
     "ename": "error",
     "evalue": "OpenCV(4.11.0) D:\\a\\opencv-python\\opencv-python\\opencv\\modules\\imgproc\\src\\color.cpp:199: error: (-215:Assertion failed) !_src.empty() in function 'cv::cvtColor'\n",
     "output_type": "error",
     "traceback": [
      "\u001b[1;31m---------------------------------------------------------------------------\u001b[0m",
      "\u001b[1;31merror\u001b[0m                                     Traceback (most recent call last)",
      "Cell \u001b[1;32mIn[14], line 2\u001b[0m\n\u001b[0;32m      1\u001b[0m image \u001b[38;5;241m=\u001b[39m cv2\u001b[38;5;241m.\u001b[39mimread(\u001b[38;5;124m'\u001b[39m\u001b[38;5;124m../Seaweed biostimulant Rahwa\u001b[39m\u001b[38;5;124m\\\u001b[39m\u001b[38;5;124mBOTTOM\u001b[39m\u001b[38;5;130;01m\\174\u001b[39;00m\u001b[38;5;124m0385853.034617.jpg\u001b[39m\u001b[38;5;124m'\u001b[39m)\n\u001b[1;32m----> 2\u001b[0m image_rgb \u001b[38;5;241m=\u001b[39m \u001b[43mcv2\u001b[49m\u001b[38;5;241;43m.\u001b[39;49m\u001b[43mcvtColor\u001b[49m\u001b[43m(\u001b[49m\u001b[43mimage\u001b[49m\u001b[43m,\u001b[49m\u001b[43m \u001b[49m\u001b[43mcv2\u001b[49m\u001b[38;5;241;43m.\u001b[39;49m\u001b[43mCOLOR_BGR2RGB\u001b[49m\u001b[43m)\u001b[49m\n\u001b[0;32m      3\u001b[0m plt\u001b[38;5;241m.\u001b[39mimshow(image_rgb)\n",
      "\u001b[1;31merror\u001b[0m: OpenCV(4.11.0) D:\\a\\opencv-python\\opencv-python\\opencv\\modules\\imgproc\\src\\color.cpp:199: error: (-215:Assertion failed) !_src.empty() in function 'cv::cvtColor'\n"
     ]
    }
   ],
   "source": [
    "image = cv2.imread('../Seaweed biostimulant Rahwa\\BOTTOM\\1740385853.034617.jpg')\n",
    "image_rgb = cv2.cvtColor(image, cv2.COLOR_BGR2RGB)\n",
    "plt.imshow(image_rgb)\n"
   ]
  },
  {
   "cell_type": "code",
   "execution_count": null,
   "metadata": {},
   "outputs": [
    {
     "ename": "FileNotFoundError",
     "evalue": "[WinError 3] The system cannot find the path specified: '../TOP'",
     "output_type": "error",
     "traceback": [
      "\u001b[1;31m---------------------------------------------------------------------------\u001b[0m",
      "\u001b[1;31mFileNotFoundError\u001b[0m                         Traceback (most recent call last)",
      "Cell \u001b[1;32mIn[21], line 59\u001b[0m\n\u001b[0;32m     55\u001b[0m directory \u001b[38;5;241m=\u001b[39m \u001b[38;5;124m'\u001b[39m\u001b[38;5;124m../TOP\u001b[39m\u001b[38;5;124m'\u001b[39m\n\u001b[0;32m     58\u001b[0m \u001b[38;5;66;03m# List all files in the directory\u001b[39;00m\n\u001b[1;32m---> 59\u001b[0m all_files \u001b[38;5;241m=\u001b[39m \u001b[43mos\u001b[49m\u001b[38;5;241;43m.\u001b[39;49m\u001b[43mlistdir\u001b[49m\u001b[43m(\u001b[49m\u001b[43mdirectory\u001b[49m\u001b[43m)\u001b[49m\n\u001b[0;32m     61\u001b[0m \u001b[38;5;66;03m# Filter for common image file extensions (add more if needed)\u001b[39;00m\n\u001b[0;32m     62\u001b[0m image_files \u001b[38;5;241m=\u001b[39m [f \u001b[38;5;28;01mfor\u001b[39;00m f \u001b[38;5;129;01min\u001b[39;00m all_files \u001b[38;5;28;01mif\u001b[39;00m f\u001b[38;5;241m.\u001b[39mendswith((\u001b[38;5;124m'\u001b[39m\u001b[38;5;124m.png\u001b[39m\u001b[38;5;124m'\u001b[39m, \u001b[38;5;124m'\u001b[39m\u001b[38;5;124m.jpg\u001b[39m\u001b[38;5;124m'\u001b[39m, \u001b[38;5;124m'\u001b[39m\u001b[38;5;124m.jpeg\u001b[39m\u001b[38;5;124m'\u001b[39m))]\n",
      "\u001b[1;31mFileNotFoundError\u001b[0m: [WinError 3] The system cannot find the path specified: '../TOP'"
     ]
    }
   ],
   "source": [
    "\n",
    "image = cv2.imread('1740385853.034617.jpg')\n",
    "# Convert the image to grayscale\n",
    "gray = cv2.cvtColor(image, cv2.COLOR_BGR2GRAY)\n",
    "\n",
    "# Threshold the grayscale image to isolate the darker regions\n",
    "_, thresh = cv2.threshold(gray, 35, 255, cv2.THRESH_BINARY_INV)  # Adjust the 50 value if needed\n",
    "\n",
    "# Find contours in the thresholded image\n",
    "_, contours, _ = cv2.findContours(thresh, cv2.RETR_EXTERNAL, cv2.CHAIN_APPROX_SIMPLE)\n",
    "\n",
    "# Compute the center of the image\n",
    "image_center = (image.shape[1] // 2, image.shape[0] // 2)\n",
    "\n",
    "    # Sort contours based on area\n",
    "    sorted_contours = sorted(contours, key=cv2.contourArea, reverse=True)\n",
    "\n",
    "    # Consider only the top N largest contours. For instance, top 5:\n",
    "    top_contours = sorted_contours[:5]\n",
    "\n",
    "    # From the top contours, find the one that is closest to the center\n",
    "    closest_contour = None\n",
    "    min_distance = float('inf')\n",
    "\n",
    "    for contour in top_contours:\n",
    "        M = cv2.moments(contour)\n",
    "        if M[\"m00\"] != 0:  # Avoid division by zero\n",
    "            cx = int(M[\"m10\"] / M[\"m00\"])\n",
    "            cy = int(M[\"m01\"] / M[\"m00\"])\n",
    "        else:\n",
    "            continue\n",
    "        \n",
    "        distance = ((cx - image_center[0])**2 + (cy - image_center[1])**2)**0.5\n",
    "        if distance < min_distance:\n",
    "            min_distance = distance\n",
    "            closest_contour = contour\n",
    "\n",
    "    if closest_contour is None:\n",
    "        return image\n",
    "\n",
    "    # Get the bounding rectangle of the closest contour\n",
    "    x, y, w, h = cv2.boundingRect(closest_contour)\n",
    "\n",
    "    # Crop the image\n",
    "    cropped_image = image[y:y+h, x:x+w]\n",
    "\n",
    "    return cropped_image\n",
    "\n",
    "if __name__ == \"__main__\":\n",
    "    # Directory containing your images\n",
    "    directory = '../TOP'\n",
    "   \n",
    "   \n",
    "    # List all files in the directory\n",
    "    all_files = os.listdir(directory)\n",
    "\n",
    "    # Filter for common image file extensions (add more if needed)\n",
    "    image_files = [f for f in all_files if f.endswith(('.png', '.jpg', '.jpeg'))]\n",
    "\n",
    "    # Iterate over each image and apply the cropping function\n",
    "    for image_file in image_files:\n",
    "        full_image_path = os.path.join(directory, image_file)\n",
    "        cropped = crop_image(full_image_path)\n",
    "        cv2.imwrite(full_image_path, cropped) "
   ]
  }
 ],
 "metadata": {
  "kernelspec": {
   "display_name": "Python 3",
   "language": "python",
   "name": "python3"
  },
  "language_info": {
   "codemirror_mode": {
    "name": "ipython",
    "version": 3
   },
   "file_extension": ".py",
   "mimetype": "text/x-python",
   "name": "python",
   "nbconvert_exporter": "python",
   "pygments_lexer": "ipython3",
   "version": "3.13.2"
  }
 },
 "nbformat": 4,
 "nbformat_minor": 2
}
