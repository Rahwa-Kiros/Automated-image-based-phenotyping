{
 "cells": [
  {
   "cell_type": "code",
   "execution_count": 7,
   "id": "93462319-56d9-41d9-859b-fbc42b96adac",
   "metadata": {},
   "outputs": [
    {
     "name": "stdout",
     "output_type": "stream",
     "text": [
      "hallo\n"
     ]
    }
   ],
   "source": [
    "print('hallo'"
   ]
  },
  {
   "cell_type": "code",
   "execution_count": 9,
   "id": "0bb38380-7048-4399-973f-ff6f50a48958",
   "metadata": {},
   "outputs": [],
   "source": [
    "import os\n",
    "%matplotlib widget\n",
    "from plantcv import plantcv as pcv\n",
    "from plantcv.parallel import WorkflowInputs\n",
    "import numpy as np"
   ]
  },
  {
   "cell_type": "code",
   "execution_count": null,
   "id": "8ab8e2f5-f91a-4476-8cd6-98a698ca64df",
   "metadata": {},
   "outputs": [],
   "source": [
    "# Input/output options\n",
    "args = WorkflowInputs(\n",
    "    images=[\"./Seaweed biostimulant Rahwa/BOTTOM/1740385853.034617.jpg\"],\n",
    "    names=\"image\",\n",
    "    result=\"example_results_oneimage_file.csv\",\n",
    "    outdir=\".\",\n",
    "    writeimg=False,\n",
    "    debug=\"plot\",\n",
    "    sample_label=\"image data\"\n",
    "    )"
   ]
  }
 ],
 "metadata": {
  "kernelspec": {
   "display_name": "Python 3 (ipykernel)",
   "language": "python",
   "name": "python3"
  },
  "language_info": {
   "codemirror_mode": {
    "name": "ipython",
    "version": 3
   },
   "file_extension": ".py",
   "mimetype": "text/x-python",
   "name": "python",
   "nbconvert_exporter": "python",
   "pygments_lexer": "ipython3",
   "version": "3.12.9"
  }
 },
 "nbformat": 4,
 "nbformat_minor": 5
}
